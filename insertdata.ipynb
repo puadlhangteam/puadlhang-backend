{
 "cells": [
  {
   "cell_type": "code",
   "execution_count": 1,
   "metadata": {},
   "outputs": [],
   "source": [
    "import pandas as pd\n",
    "\n",
    "import re"
   ]
  },
  {
   "cell_type": "code",
   "execution_count": 2,
   "metadata": {},
   "outputs": [],
   "source": [
    "target=[r\"./007e09ef21228aa0.json\",r\"./3ef7b033b834e7c0.json\",r\"./6c989f2b4095ff60.json\",r\"./acf2ee95f525d7c2.json\",r\"./qewdrasg5df.json\"]"
   ]
  },
  {
   "cell_type": "code",
   "execution_count": 3,
   "metadata": {},
   "outputs": [],
   "source": [
    "d=pd.read_json(target[0])"
   ]
  },
  {
   "cell_type": "code",
   "execution_count": 4,
   "metadata": {},
   "outputs": [],
   "source": [
    "df=pd.concat([pd.read_json(t) for t in target])"
   ]
  },
  {
   "cell_type": "code",
   "execution_count": 5,
   "metadata": {},
   "outputs": [],
   "source": [
    "pattern = re.compile(r'^\\d+\\.\\s*')\n",
    "df[\"solutions\"]=df[\"solutions\"].apply(lambda x: [pattern.sub(\"\",g) for g in x])\n",
    "df=df.rename(columns={\"picture\":\"pictures\"})\n",
    "df['pictures']=df['pictures'].apply(lambda x: x if isinstance(x,list) else [x])"
   ]
  },
  {
   "cell_type": "code",
   "execution_count": 7,
   "metadata": {},
   "outputs": [
    {
     "data": {
      "text/plain": [
       "array(['neck', 'chest', 'trapezius', 'forearm', 'obliques',\n",
       "       'front-deltoids', 'soleus', 'calves', 'quaddriceps'], dtype=object)"
      ]
     },
     "execution_count": 7,
     "metadata": {},
     "output_type": "execute_result"
    }
   ],
   "source": [
    "df[\"muscle\"].unique()"
   ]
  },
  {
   "cell_type": "code",
   "execution_count": 8,
   "metadata": {},
   "outputs": [],
   "source": [
    "df.to_json('./result.json',orient='records',force_ascii=False)"
   ]
  },
  {
   "cell_type": "code",
   "execution_count": 9,
   "metadata": {},
   "outputs": [],
   "source": [
    "result = pd.read_json(\"./result.json\").to_dict(orient=\"records\")"
   ]
  },
  {
   "cell_type": "code",
   "execution_count": 10,
   "metadata": {},
   "outputs": [],
   "source": [
    "token = \"\""
   ]
  },
  {
   "cell_type": "code",
   "execution_count": 11,
   "metadata": {},
   "outputs": [
    {
     "data": {
      "text/plain": [
       "{'name': 'นวดกล้ามเนื้อบริเวณแขนบน/ข้อศอกด้วยตนเอง',\n",
       " 'type': 'นวดกล้ามเนื้อ',\n",
       " 'muscle': 'forearm',\n",
       " 'level': 'ง่าย',\n",
       " 'solutions': ['ยกแขนขึ้นบ้างเล็กน้อยแล้วจับกล้ามเนื้อตรงกลางด้านหลังของแขนบนเหมือนคีม',\n",
       "  'ต้องแน่ใจว่าคุณจับกล้ามเนื้อจริงๆ ตอนนี้บิดกล้ามเนื้อระหว่างนิ้วมือ',\n",
       "  'นวดบริเวณนั้นไปมาไม่เกิน 15 ครั้ง โดยใช้เทคนิคนิ้วหัวแม่มือ-นิ้วชี้บิดไปมา'],\n",
       " 'pictures': ['https://www.muscle-joint-pain.com/wp-content/uploads//triceps-palpation.jpg'],\n",
       " 'items': None}"
      ]
     },
     "execution_count": 11,
     "metadata": {},
     "output_type": "execute_result"
    }
   ],
   "source": [
    "result[7]"
   ]
  },
  {
   "cell_type": "code",
   "execution_count": 12,
   "metadata": {},
   "outputs": [
    {
     "name": "stdout",
     "output_type": "stream",
     "text": [
      "0 {'message': 'Created'}\n",
      "1 {'message': 'Created'}\n",
      "2 {'message': 'Created'}\n",
      "3 {'message': 'Created'}\n",
      "4 {'message': 'Created'}\n",
      "5 {'message': 'Created'}\n",
      "6 {'message': 'Created'}\n",
      "7 {'message': 'Created'}\n",
      "8 {'message': 'Created'}\n",
      "9 {'message': 'Created'}\n",
      "10 {'message': 'Created'}\n",
      "11 {'message': 'Created'}\n",
      "12 {'message': 'Created'}\n",
      "13 {'message': 'Created'}\n",
      "14 {'message': 'Created'}\n",
      "15 {'message': 'Created'}\n",
      "16 {'message': 'Created'}\n",
      "17 {'message': 'Created'}\n",
      "18 {'message': 'Created'}\n",
      "19 {'message': 'Created'}\n",
      "20 {'message': 'Created'}\n",
      "21 {'message': 'Created'}\n",
      "22 {'message': 'Created'}\n",
      "23 {'message': 'Created'}\n",
      "24 {'message': 'Created'}\n",
      "25 {'message': 'Created'}\n",
      "26 {'message': 'Created'}\n",
      "27 {'message': 'Created'}\n"
     ]
    }
   ],
   "source": [
    "import json\n",
    "import requests\n",
    "url = \"/solutions\"\n",
    "for idx,solution in enumerate(result):\n",
    "    data=json.dumps(solution)\n",
    "    print(idx,requests.post(url,data=data,headers={\"Authorization\":f\"Bearer {token}\",\"Content-Type\":\"application/json\"}).json())"
   ]
  },
  {
   "cell_type": "code",
   "execution_count": null,
   "metadata": {},
   "outputs": [],
   "source": []
  }
 ],
 "metadata": {
  "kernelspec": {
   "display_name": "puadlhang",
   "language": "python",
   "name": "python3"
  },
  "language_info": {
   "codemirror_mode": {
    "name": "ipython",
    "version": 3
   },
   "file_extension": ".py",
   "mimetype": "text/x-python",
   "name": "python",
   "nbconvert_exporter": "python",
   "pygments_lexer": "ipython3",
   "version": "3.12.0"
  }
 },
 "nbformat": 4,
 "nbformat_minor": 2
}
